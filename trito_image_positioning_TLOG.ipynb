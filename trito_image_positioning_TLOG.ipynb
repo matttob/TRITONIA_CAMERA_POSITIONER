{
 "cells": [
  {
   "cell_type": "code",
   "execution_count": 1,
   "metadata": {},
   "outputs": [],
   "source": [
    "import os\n",
    "from datetime import datetime\n",
    "import pandas as pd\n",
    "import piexif\n",
    "from fractions import Fraction\n",
    "from csv import DictWriter\n",
    "from pixhawk_telelemtry_import import Telemetry\n"
   ]
  },
  {
   "cell_type": "code",
   "execution_count": 24,
   "metadata": {},
   "outputs": [],
   "source": [
    "\n",
    "# Get input folder, position file, and output destination from the user\n",
    "image_folder = r\"/Users/matthewtoberman/Downloads/plot_A_test\"\n",
    "# ROV .tlog file\n",
    "tlog_file_name = r\"/Users/matthewtoberman/Downloads/2024-03-02 10-24-00.tlog\"\n",
    "output_csv_file = r\"/Users/matthewtoberman/Downloads/WL_global_positions_20240112-140608_TEST.csv\"\n",
    "\n",
    "# ROV\n",
    "ROV_CLOCK_HOUR_ADJUST=0\n",
    "# check if .csv file already exists\n",
    "if tlog_file_name.split('\\\\')[-1].split('.')[0]+'.csv' not in os.listdir('\\\\'.join(tlog_file_name.split('\\\\')[0:-1])):\n",
    "    combined_CSV_output_filename = None\n",
    "    Telemetry.logs_to_csv(combined_CSV_output_filename, [tlog_file_name],Telemetry.DEFAULT_FIELDS)\n",
    "    rov_log_df = Telemetry.csv_to_df(tlog_file_name[0:-4]+'csv')\n",
    "    rov_log_df.index = rov_log_df.index + pd.DateOffset(hours=ROV_CLOCK_HOUR_ADJUST)\n",
    "\n",
    "rov_log_df = Telemetry.csv_to_df(tlog_file_name[0:-4]+'csv')\n",
    "\n",
    "\n",
    "#  remove strange australian time zone\n",
    "if rov_log_df.index[1].tzinfo != 'none':\n",
    "    rov_log_df.index = rov_log_df.index.tz_convert(None)\n",
    "\n",
    "\n",
    "rov_log_df['lat_test'] =  [len(str(decimal)) for decimal in  list(rov_log_df['GLOBAL_POSITION_INT.lat'])]\n",
    "\n",
    "rov_log_valid_positions_df  = rov_log_df[rov_log_df['lat_test'] > 3]\n",
    "\n",
    "# create python date time\n",
    "# rov_log_valid_positions_df ['date_time']=pd.to_datetime(rov_log_valid_positions_df ['SYSTEM_TIME.time_unix_usec'], unit='us', origin='unix')\n",
    "\n",
    "\n",
    "# interpolate using mean pixhawk data to 1 hz matchting UGPS\n",
    "mav_df_filtered_1s = rov_log_valid_positions_df.copy()\n",
    "mav_df_filtered_1s.sort_index(inplace=True, ascending=True)\n",
    "mav_df_filtered_1s = mav_df_filtered_1s.resample('1S').mean()\n",
    "mav_df_filtered_1s= mav_df_filtered_1s.interpolate(method ='linear', limit_direction ='backward', limit = 10).copy()\n",
    "print(f'Pixhawk time span : {mav_df_filtered_1s.index[0]} -  {mav_df_filtered_1s.index[-1]}')\n"
   ]
  },
  {
   "cell_type": "code",
   "execution_count": 31,
   "metadata": {},
   "outputs": [
    {
     "name": "stdout",
     "output_type": "stream",
     "text": [
      "2024-01-11 11:50:45\n"
     ]
    }
   ],
   "source": [
    "\n",
    "\n",
    "# Open the file for append\n",
    "position_output_file = open(output_csv_file, 'w', newline='')   \n",
    "\n",
    "position_headers = ['file name', 'longitude','latitude', 'depth','rov_time','image_time']\n",
    "writer = DictWriter(position_output_file, delimiter=',', lineterminator='\\n',fieldnames=position_headers)\n",
    "writer.writeheader()\n",
    "position_output_file.close()\n",
    "\n",
    "\n",
    "\n",
    "for filename in os.listdir(image_folder):\n",
    "        if filename.endswith(\".JPG\") or filename.endswith(\".png\") or filename.endswith(\".jpg\"):\n",
    "           \n",
    "            image_path = os.path.join(image_folder, filename)\n",
    "\n",
    "            exif_dict = piexif.load(image_path)\n",
    "\n",
    "            datetime_object = datetime.strptime(str(exif_dict['Exif'][36867])[2:-1], '%Y:%m:%d %H:%M:%S')\n",
    "            print(datetime_object)\n",
    "\n",
    "\n",
    "         \n",
    "            idx = mav_df_filtered_1s.index.get_indexer([datetime_object], method='nearest')\n",
    "   \n",
    "            diff =  pd.to_datetime(mav_df_filtered_1s.index[idx]) - datetime_object\n",
    "            # print(mav_df_filtered_1s.index[idx])\n",
    "            # print(datetime_object)\n",
    "            \n",
    "            if ((diff.total_seconds()).to_numpy()) < 2:\n",
    "\n",
    "                position_data_dict = {'file name' : filename , \n",
    "                'longitude' :mav_df_filtered_1s['GLOBAL_POSITION_INT.lon'][idx].values[0]/10000000,\n",
    "                'latitude' :mav_df_filtered_1s['GLOBAL_POSITION_INT.lat'][idx].values[0]/10000000,\n",
    "                'depth' : mav_df_filtered_1s['VFR_HUD.alt'][idx].values[0],\n",
    "                'rov_time' : mav_df_filtered_1s.index[idx].values[0],\n",
    "                'image_time' :datetime_object }\n",
    "            else:\n",
    "                print('no match')\n",
    "                position_data_dict = {'file name' : filename , \n",
    "                'longitude' :'',\n",
    "                'latitude' :'',\n",
    "                'depth' : '',\n",
    "                'rov_time' : '',\n",
    "                'image_time' :'' } \n",
    "\n",
    "        \n",
    "            with open(output_csv_file, mode='a')  as f_filtered:\n",
    "                dictwriter_object = DictWriter(f_filtered, fieldnames=position_headers)\n",
    "                dictwriter_object.writerow(position_data_dict)\n",
    "                # Close the file object\n",
    "                f_filtered.close ()\n",
    "\n",
    "         "
   ]
  }
 ],
 "metadata": {
  "kernelspec": {
   "display_name": "Python 3",
   "language": "python",
   "name": "python3"
  },
  "language_info": {
   "codemirror_mode": {
    "name": "ipython",
    "version": 3
   },
   "file_extension": ".py",
   "mimetype": "text/x-python",
   "name": "python",
   "nbconvert_exporter": "python",
   "pygments_lexer": "ipython3",
   "version": "3.6.13"
  },
  "orig_nbformat": 4
 },
 "nbformat": 4,
 "nbformat_minor": 2
}
